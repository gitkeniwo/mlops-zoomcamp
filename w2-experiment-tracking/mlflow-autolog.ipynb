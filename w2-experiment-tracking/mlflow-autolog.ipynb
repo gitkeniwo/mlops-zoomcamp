{
 "cells": [
  {
   "cell_type": "code",
   "execution_count": 2,
   "metadata": {},
   "outputs": [],
   "source": [
    "# mlflow setup\n",
    "\n",
    "import mlflow\n",
    "\n",
    "mlflow.set_experiment(\"w2-nyc-taxi-experiment\")\n",
    "\n",
    "# mlflow.set_tracking_uri(uri=\"sqlite:///mlflow.db\")\n",
    "\n",
    "mlflow.sklearn.autolog()"
   ]
  },
  {
   "cell_type": "code",
   "execution_count": 3,
   "metadata": {},
   "outputs": [],
   "source": [
    "import pandas as pd\n",
    "import numpy as np\n",
    "\n",
    "yellow_taxi = pd.read_parquet(\"./data/yellow-taxi-2301.parquet\")\n",
    "\n",
    "def duration_in_minutes(df):\n",
    "    duration = df.tpep_dropoff_datetime - df.tpep_pickup_datetime\n",
    "    return duration / pd.Timedelta(minutes=1)\n",
    "\n",
    "def prepare_data(df, samp: bool=False):\n",
    "    df['duration'] = duration_in_minutes(df)\n",
    "    filtered_df = df[ (df.duration >= 1) & (df.duration <= 60) ].copy()\n",
    "    \n",
    "    #sampling \n",
    "    if samp:\n",
    "        return filtered_df.sample(frac=0.05, random_state=42)\n",
    "    else:\n",
    "        return filtered_df\n",
    "    \n",
    "\n",
    "# sampling\n",
    "df = prepare_data(yellow_taxi, samp = True)\n",
    "\n",
    "categorical = ['PULocationID', 'DOLocationID']\n",
    "numerical = ['trip_distance']\n",
    "\n",
    "# make sure 'DOLocationID' is str type, otherwise the dictvectorizer\n",
    "# will treat it as numeric, hence not one-hot encoding it\n",
    "\n",
    "def prepare_dict(df):\n",
    "    categorical = ['PULocationID', 'DOLocationID']\n",
    "    numerical = ['trip_distance']\n",
    "\n",
    "    df[categorical] = df[categorical].astype(str)\n",
    "\n",
    "    # turn to dict\n",
    "    return df[categorical + numerical].to_dict(orient='records')\n",
    "\n",
    "train_dicts = prepare_dict(df)\n",
    "\n",
    "from sklearn.feature_extraction import DictVectorizer\n",
    "\n",
    "vec = DictVectorizer()\n",
    "\n",
    "# feature matrix array:\n",
    "X_train = vec.fit_transform(train_dicts)\n",
    "y_train = df.duration.values\n",
    "\n",
    "# Validation set\n",
    "yellow_taxi_2 = pd.read_parquet('https://d37ci6vzurychx.cloudfront.net/trip-data/yellow_tripdata_2023-02.parquet')\n",
    "\n",
    "# sampling\n",
    "df2 = prepare_data(yellow_taxi_2, samp = True)\n",
    "\n",
    "X_val = vec.transform(prepare_dict(df2))\n",
    "y_val = df2.duration.values"
   ]
  },
  {
   "cell_type": "code",
   "execution_count": 4,
   "metadata": {},
   "outputs": [
    {
     "name": "stderr",
     "output_type": "stream",
     "text": [
      "2024/11/08 17:10:02 INFO mlflow.utils.autologging_utils: Created MLflow autologging run with ID '8395f95f33514e04ba58c3fe7a792fc1', which will track hyperparameters, performance metrics, model artifacts, and lineage information for the current sklearn workflow\n",
      "2024/11/08 17:10:02 WARNING mlflow.sklearn: Failed to log training dataset information to MLflow Tracking. Reason: 'numpy.ndarray' object has no attribute 'toarray'\n"
     ]
    }
   ],
   "source": [
    "from sklearn import linear_model\n",
    "from sklearn.metrics import mean_squared_error\n",
    "\n",
    "reg = linear_model.LinearRegression()\n",
    "\n",
    "reg.fit(X_train, y_train)\n",
    "\n",
    "y_pred = reg.predict(X_val)\n",
    "\n",
    "mse = mean_squared_error(y_val, y_pred)"
   ]
  }
 ],
 "metadata": {
  "kernelspec": {
   "display_name": "base",
   "language": "python",
   "name": "python3"
  },
  "language_info": {
   "codemirror_mode": {
    "name": "ipython",
    "version": 3
   },
   "file_extension": ".py",
   "mimetype": "text/x-python",
   "name": "python",
   "nbconvert_exporter": "python",
   "pygments_lexer": "ipython3",
   "version": "3.11.9"
  }
 },
 "nbformat": 4,
 "nbformat_minor": 2
}
